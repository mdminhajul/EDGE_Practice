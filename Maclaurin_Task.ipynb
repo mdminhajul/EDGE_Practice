{
  "nbformat": 4,
  "nbformat_minor": 0,
  "metadata": {
    "colab": {
      "provenance": [],
      "authorship_tag": "ABX9TyNj19T85skphP0Rg9t5D7AC",
      "include_colab_link": true
    },
    "kernelspec": {
      "name": "python3",
      "display_name": "Python 3"
    },
    "language_info": {
      "name": "python"
    }
  },
  "cells": [
    {
      "cell_type": "markdown",
      "metadata": {
        "id": "view-in-github",
        "colab_type": "text"
      },
      "source": [
        "<a href=\"https://colab.research.google.com/github/mdminhajul/EDGE_Practice/blob/main/Maclaurin_Task.ipynb\" target=\"_parent\"><img src=\"https://colab.research.google.com/assets/colab-badge.svg\" alt=\"Open In Colab\"/></a>"
      ]
    },
    {
      "cell_type": "code",
      "execution_count": null,
      "metadata": {
        "colab": {
          "base_uri": "https://localhost:8080/"
        },
        "id": "uPM_BkpmOpyr",
        "outputId": "2c3d3b69-8267-450c-f1dd-ed9ef85a2fbc"
      },
      "outputs": [
        {
          "output_type": "stream",
          "name": "stdout",
          "text": [
            "Calculation complete. Results saved to output_Maclaurin.csv.\n"
          ]
        }
      ],
      "source": [
        "import pandas as pd\n",
        "from math import e, factorial\n",
        "import numpy as np\n",
        "\n",
        "# Vectorized factorial for efficiency\n",
        "fac = np.vectorize(factorial)\n",
        "\n",
        "def e_x(x, terms):\n",
        "    \"\"\"Approximates e^x using a given number of terms of\n",
        "    the Maclaurin series.\n",
        "    \"\"\"\n",
        "    n = np.arange(terms)\n",
        "    return np.sum((x ** n) / fac(n))\n",
        "\n",
        "# Read input values from CSV\n",
        "input_df = pd.read_csv('https://raw.githubusercontent.com/mdminhajul/EDGE_Maclaurin/refs/heads/main/Input.csv')\n",
        "\n",
        "# Initialize an empty list to store the results\n",
        "results = []\n",
        "\n",
        "# Iterate over each row in the input DataFrame\n",
        "for index, row in input_df.iterrows():\n",
        "    x = row['X']\n",
        "    terms = int(row['Terms'])\n",
        "\n",
        "    # Calculate Maclaurin series sum and error\n",
        "    maclaurin_sum = e_x(x, terms)\n",
        "    actual_value = e ** x\n",
        "    error = actual_value - maclaurin_sum\n",
        "\n",
        "    # Append the results to the list\n",
        "    results.append({\n",
        "        'x': x,\n",
        "        'terms': terms,\n",
        "        'Maclaurin Sum': maclaurin_sum,\n",
        "        'Actual Value': actual_value,\n",
        "        'Error': error\n",
        "    })\n",
        "\n",
        "# Create a DataFrame from the results\n",
        "output_df = pd.DataFrame(results)\n",
        "\n",
        "# Write output to CSV\n",
        "output_df.to_csv('output_Maclaurin.csv', index=False)\n",
        "\n",
        "print(\"Calculation complete. Results saved to output_Maclaurin.csv.\")"
      ]
    }
  ]
}