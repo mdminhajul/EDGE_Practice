{
  "nbformat": 4,
  "nbformat_minor": 0,
  "metadata": {
    "colab": {
      "provenance": [],
      "authorship_tag": "ABX9TyMuFieUQxrBF4IamUCkbKW0",
      "include_colab_link": true
    },
    "kernelspec": {
      "name": "python3",
      "display_name": "Python 3"
    },
    "language_info": {
      "name": "python"
    }
  },
  "cells": [
    {
      "cell_type": "markdown",
      "metadata": {
        "id": "view-in-github",
        "colab_type": "text"
      },
      "source": [
        "<a href=\"https://colab.research.google.com/github/mdminhajul/EDGE_Practice/blob/main/Calculate_the_sum_of_the_Gussain_series.ipynb\" target=\"_parent\"><img src=\"https://colab.research.google.com/assets/colab-badge.svg\" alt=\"Open In Colab\"/></a>"
      ]
    },
    {
      "cell_type": "code",
      "execution_count": 1,
      "metadata": {
        "colab": {
          "base_uri": "https://localhost:8080/"
        },
        "id": "TmdUgBcSo_pe",
        "outputId": "7699167f-ea66-4fad-a130-c704182bea94"
      },
      "outputs": [
        {
          "output_type": "stream",
          "name": "stdout",
          "text": [
            "Enter the value of n: 2\n",
            "The sum of the series is: 3.0\n"
          ]
        }
      ],
      "source": [
        "def SeriesSum(n):\n",
        "  \"\"\"Calculates the sum of the Gaussian series 1 + 2 + 3 + ... + n.\n",
        "\n",
        "  Args:\n",
        "    n: The upper limit of the series.\n",
        "\n",
        "  Returns:\n",
        "    The sum of the series.\n",
        "  \"\"\"\n",
        "  sum = n * (n + 1) / 2\n",
        "  return sum\n",
        "\n",
        "# Get input from the user\n",
        "n = int(input(\"Enter the value of n: \"))\n",
        "\n",
        "# Calculate and print the sum\n",
        "sum = SeriesSum(n)\n",
        "print(\"The sum of the series is:\", sum)"
      ]
    }
  ]
}